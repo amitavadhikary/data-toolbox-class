{
 "cells": [
  {
   "cell_type": "markdown",
   "metadata": {},
   "source": [
    "<center>\n",
    "    <img src=\"https://cf-courses-data.s3.us.cloud-object-storage.appdomain.cloud/IBMDeveloperSkillsNetwork-DS0105EN-SkillsNetwork/labs/Module2/images/SN_web_lightmode.png\" width=\"300\" alt=\"cognitiveclass.ai logo\">\n",
    "</center>\n"
   ]
  },
  {
   "cell_type": "markdown",
   "metadata": {},
   "source": [
    "#### Add your code below following the instructions given in the course\n"
   ]
  },
  {
   "cell_type": "markdown",
   "metadata": {},
   "source": [
    "# Data Science Tools and Ecosystem"
   ]
  },
  {
   "cell_type": "markdown",
   "metadata": {},
   "source": [
    "### Ex-3\n",
    "__This Jupyter Notebook contains the exercises excuted as per the instruction to demonstrate several data science tools and techniques__"
   ]
  },
  {
   "cell_type": "markdown",
   "metadata": {},
   "source": [
    "### Ex-10\n",
    "\n",
    "__Objectives:__\n",
    "***\n",
    "_List of objectives are given below-_\n",
    "\n",
    "-  Creating title of the jupyter notebook\n",
    "-  Write an introduction\n",
    "-  Provide a list of data science languages\n",
    "-  Provide a list of data science language libraries\n",
    "-  Provide a table of data science tools \n",
    "-  Create a markdown cell introducing arithmetic expression examples\n",
    "-  Create a code cell to multiply and add numbers\n",
    "-  Create a code cell to convert minutes to hours"
   ]
  },
  {
   "cell_type": "markdown",
   "metadata": {},
   "source": [
    "### Ex-4\n",
    "__A list of several important data science languages is given below__\n",
    "\n",
    "1. Python\n",
    "2. R\n",
    "3. SQL\n",
    "4. Scala\n",
    "5. C++\n",
    "6. Java\n",
    "7. Julia\n",
    "8. Javascript\n",
    "9. PHP\n",
    "10. Go\n",
    "11. Ruby\n",
    "12. Visual Basic\n"
   ]
  },
  {
   "cell_type": "markdown",
   "metadata": {},
   "source": [
    "### Ex-5\n",
    "__A list of several important data science libraries (of Python language) is given below-__\n",
    "\n",
    "-  Scientific computing libraries\n",
    "    - Pandas\n",
    "    - Numpy\n",
    "    - Matplotlib\n",
    "    - Scipy\n",
    "-  Artificial Intelligene libraries\n",
    "    - Tensorflow\n",
    "    - PyTorch\n",
    "    - Keras\n",
    "    - Scikit-learn\n",
    "-  Natural Language Processing (NLP) libraries\n",
    "     - Natural Language Toolkit(NLTK)"
   ]
  },
  {
   "cell_type": "markdown",
   "metadata": {},
   "source": [
    "### Ex-6\n",
    "__A table of data science tools are provided below-__\n",
    "\n",
    "|Tool Type|Purpose|Tool Name|\n",
    "|:----|-----|:---:|\n",
    "|__Open Source Tools__|Data Management|MySQL, PostgreSQL, MongoDB, Apache CouchDB, Apache Cassandra, Hadoop HDFS, Ceph|\n",
    "||Integration and Transformation|Apache Airflow, Kubeflow, Apache Kafka, Apache nifi, Apache Spark SQL, Node-RED|\n",
    "||Data Visualization|Hue, Kibana, Superset|\n",
    "||Model Deployment|PredictionIO, Seldon, mleap, Tensor Flow Service|\n",
    "||Model Monitoring & Assessment|ModelDB, Prometheus, IBM AI Fairness 360 Open Source Toolkit, IBM Adverserial Robustness 360 Toolbox|\n",
    "||Code Asset Management|git, GitHub, GitLab, Bitbucket|\n",
    "||Data Asset Management|Apache Atlas, ODPi EGERIA, kylo, |\n",
    "||Development Environment|jupyter lab, Apache Zeppelin, R Studio, SPYDER|\n",
    "||Execution Environment|Apache Spark, Flink, Ray|\n",
    "||Fully Integrated Visual Tools|KNIME, orange|\n",
    "|__Commercial Tools__|Data Management|Oracle Database, Microsoft SQL Server, IBM DB2|\n",
    "||Data Integration and Transformation|Informatica, IBM Infosphere DataStage, Talend, SAP, Oracle, SAS, IBM Watson Studio- Data Refinery|\n",
    "||Data Visualization|tableau, IBM Cognos Analytics, Microsoft Power BI, IBM Watson Studio Desktop|\n",
    "||Model Building|SPSS Modeler, SAS Enterprise Miner, IBM Watson Studio Desktop|\n",
    "||Data Asset Management|Informatica, IBM Infosphere Information Governance Catalog|\n",
    "||Development Environments|IBM Watson Studio Desktop|\n",
    "||Fully Integrated Visual Tools|IBM Watson Studio with Watson Open Scale, H2O.ai|\n",
    "||Data Management|Amazon DynamoDB, Cloudant, IBM DB2|"
   ]
  },
  {
   "cell_type": "markdown",
   "metadata": {},
   "source": [
    "### Ex-7: Below are a few examples of evaluating arithmetic expressions in Python\n",
    "__Arithmatic Expression Example__\n"
   ]
  },
  {
   "cell_type": "code",
   "execution_count": 13,
   "metadata": {},
   "outputs": [
    {
     "name": "stdout",
     "output_type": "stream",
     "text": [
      "17\n"
     ]
    }
   ],
   "source": [
    "### Ex-8: Multiply and Add numbers\n",
    "#This a simple arithmetic expression to mutiply then add integers\n",
    "\n",
    "print((3*4) + 5)\n"
   ]
  },
  {
   "cell_type": "code",
   "execution_count": 14,
   "metadata": {},
   "outputs": [
    {
     "name": "stdout",
     "output_type": "stream",
     "text": [
      "Given Number of Minutes: 200\n",
      "Calculated hours(from the given minutes): 3.33\n"
     ]
    }
   ],
   "source": [
    "### Ex-9: Convert minutes to hours\n",
    "\n",
    "min_given = 200\n",
    "print(f\"Given Number of Minutes: {min_given}\")\n",
    "\n",
    "#This will convert 200 minutes to hours by diving by 60\n",
    "hrs_op = min_given/60\n",
    "print(f\"Calculated hours(from the given minutes): {hrs_op:.2f}\")"
   ]
  },
  {
   "cell_type": "markdown",
   "metadata": {},
   "source": [
    "## Author\n",
    "***\n",
    "__Amitav Adhikary__"
   ]
  },
  {
   "cell_type": "code",
   "execution_count": null,
   "metadata": {},
   "outputs": [],
   "source": []
  }
 ],
 "metadata": {
  "kernelspec": {
   "display_name": "Python 3 (ipykernel)",
   "language": "python",
   "name": "python3"
  },
  "language_info": {
   "codemirror_mode": {
    "name": "ipython",
    "version": 3
   },
   "file_extension": ".py",
   "mimetype": "text/x-python",
   "name": "python",
   "nbconvert_exporter": "python",
   "pygments_lexer": "ipython3",
   "version": "3.10.2"
  }
 },
 "nbformat": 4,
 "nbformat_minor": 4
}
